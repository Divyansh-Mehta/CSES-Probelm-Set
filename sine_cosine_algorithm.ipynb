{
  "nbformat": 4,
  "nbformat_minor": 0,
  "metadata": {
    "colab": {
      "provenance": [],
      "authorship_tag": "ABX9TyP1sD+qTeYGIJTm860N6pbA",
      "include_colab_link": true
    },
    "kernelspec": {
      "name": "python3",
      "display_name": "Python 3"
    },
    "language_info": {
      "name": "python"
    }
  },
  "cells": [
    {
      "cell_type": "markdown",
      "metadata": {
        "id": "view-in-github",
        "colab_type": "text"
      },
      "source": [
        "<a href=\"https://colab.research.google.com/github/Divyansh-Mehta/CSES-Probelm-Set/blob/master/sine_cosine_algorithm.ipynb\" target=\"_parent\"><img src=\"https://colab.research.google.com/assets/colab-badge.svg\" alt=\"Open In Colab\"/></a>"
      ]
    },
    {
      "cell_type": "code",
      "source": [
        "import random\n",
        "import math\n",
        "import matplotlib.pyplot as plt"
      ],
      "metadata": {
        "id": "3c8ZhJBAEoE2"
      },
      "execution_count": 16,
      "outputs": []
    },
    {
      "cell_type": "code",
      "source": [
        "# The objective function (sphere function)\n",
        "def objective_function(x1, x2):\n",
        "    return 20 * x1 - 26 * x2 - 4 * x1 * x2 + 4 * x1**2 + 3 * x2**2"
      ],
      "metadata": {
        "id": "pBd927FaBVog"
      },
      "execution_count": 62,
      "outputs": []
    },
    {
      "cell_type": "code",
      "source": [
        "# Sine Cosine Algorithm\n",
        "def sine_cosine_algorithm(obj_func, max_iter, a, n, lb, ub):\n",
        "    population = [(random.uniform(lb, ub), random.uniform(lb, ub)) for _ in range(n)]\n",
        "\n",
        "    best_fitness_history = []\n",
        "\n",
        "    for iteration in range(max_iter):\n",
        "        r1 = a - iteration * (a / max_iter)\n",
        "        for i in range(n):\n",
        "            j = i\n",
        "            while j == i:\n",
        "                j = random.randint(0, n - 1)\n",
        "\n",
        "            # r1 = random.uniform(0, 1)\n",
        "            r2 = random.uniform(0, 1)\n",
        "            r3 = random.uniform(0, 1)\n",
        "            r4 = random.uniform(0, 1)\n",
        "\n",
        "            x_i_t, y_i_t = population[i]\n",
        "\n",
        "            P_i_t = population[random.randint(0, n - 1)]\n",
        "\n",
        "            if r4 < 0.5:\n",
        "                x_i_t_plus_1 = x_i_t + r1 * math.sin(r2) * abs(r3 * P_i_t[0] - x_i_t)\n",
        "                y_i_t_plus_1 = y_i_t + r1 * math.sin(r2) * abs(r3 * P_i_t[1] - y_i_t)\n",
        "            else:\n",
        "                x_i_t_plus_1 = x_i_t + r1 * math.cos(r2) * abs(r3 * P_i_t[0] - x_i_t)\n",
        "                y_i_t_plus_1 = y_i_t + r1 * math.cos(r2) * abs(r3 * P_i_t[1] - y_i_t)\n",
        "\n",
        "            x_i_t_plus_1 = max(min(x_i_t_plus_1, ub), lb)\n",
        "            y_i_t_plus_1 = max(min(y_i_t_plus_1, ub), lb)\n",
        "\n",
        "            fitness = obj_func(x_i_t_plus_1, y_i_t_plus_1)\n",
        "\n",
        "            if fitness < obj_func(x_i_t, y_i_t):\n",
        "                population[i] = (x_i_t_plus_1, y_i_t_plus_1)\n",
        "\n",
        "        best_fitness = min(obj_func(x, y) for x, y in population)\n",
        "        best_fitness_history.append(best_fitness)\n",
        "\n",
        "    return best_fitness_history"
      ],
      "metadata": {
        "id": "5T-khDH_BhHs"
      },
      "execution_count": 63,
      "outputs": []
    },
    {
      "cell_type": "code",
      "source": [
        "#Defining algorithm parameters\n",
        "max_iterations = 100\n",
        "population_size = 20\n",
        "lower_bound = -1.0\n",
        "upper_bound = 1.0\n",
        "a = 0.1"
      ],
      "metadata": {
        "id": "9sbfr0HXBqKW"
      },
      "execution_count": 67,
      "outputs": []
    },
    {
      "cell_type": "code",
      "source": [
        "convergence_history = sine_cosine_algorithm(objective_function, max_iterations, a, population_size, lower_bound, upper_bound)\n",
        "\n",
        "# Print the result\n",
        "best_fitness = min(convergence_history)\n",
        "print(\"Best Fitness:\", best_fitness)"
      ],
      "metadata": {
        "colab": {
          "base_uri": "https://localhost:8080/"
        },
        "id": "Wv1Tc3OBCEKb",
        "outputId": "48d3f9d2-2f85-43a8-bf24-3c4758b21b8a"
      },
      "execution_count": 68,
      "outputs": [
        {
          "output_type": "stream",
          "name": "stdout",
          "text": [
            "Best Fitness: -28.27669182082584\n"
          ]
        }
      ]
    },
    {
      "cell_type": "code",
      "source": [
        "plt.plot(range(1, max_iterations + 1), convergence_history)\n",
        "plt.xlabel(\"Iteration\")\n",
        "plt.ylabel(\"Best Fitness\")\n",
        "plt.title(\"Convergence of Sine Cosine Algorithm\")\n",
        "plt.grid(True)\n",
        "plt.show()"
      ],
      "metadata": {
        "colab": {
          "base_uri": "https://localhost:8080/",
          "height": 472
        },
        "id": "IUxCP4bmCKSJ",
        "outputId": "2900a880-31b4-4911-dbd1-dc02b5418abd"
      },
      "execution_count": 69,
      "outputs": [
        {
          "output_type": "display_data",
          "data": {
            "text/plain": [
              "<Figure size 640x480 with 1 Axes>"
            ],
            "image/png": "[encoded data removed]"
          },
          "metadata": {}
        }
      ]
    },
    {
      "cell_type": "code",
      "source": [],
      "metadata": {
        "id": "4Aujc3j11xue"
      },
      "execution_count": null,
      "outputs": []
    }
  ]
}